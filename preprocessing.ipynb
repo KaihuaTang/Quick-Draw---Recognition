{
 "cells": [
  {
   "cell_type": "code",
   "execution_count": 1,
   "metadata": {},
   "outputs": [],
   "source": [
    "import numpy as np\n",
    "import json\n",
    "import os"
   ]
  },
  {
   "cell_type": "code",
   "execution_count": 2,
   "metadata": {},
   "outputs": [],
   "source": [
    "numpy_path = 'data/numpy/'\n",
    "datapath = 'data/images_{0}.npy'\n",
    "labelpath = 'data/labels_{0}.json'\n",
    "testsize = 1000\n",
    "valsize = 500"
   ]
  },
  {
   "cell_type": "markdown",
   "metadata": {},
   "source": [
    "# Get all the categories"
   ]
  },
  {
   "cell_type": "code",
   "execution_count": 3,
   "metadata": {},
   "outputs": [],
   "source": [
    "def file_name(file_dir): \n",
    "    names = []\n",
    "    for root, dirs, files in os.walk(file_dir):\n",
    "        names.append(files) \n",
    "    names = [file.split('.')[0] for file in names[0]]\n",
    "    return names"
   ]
  },
  {
   "cell_type": "code",
   "execution_count": 4,
   "metadata": {},
   "outputs": [],
   "source": [
    "names = file_name(numpy_path)\n",
    "name_dict = {}\n",
    "for i in range(len(names)):\n",
    "    name_dict[i] = names[i]"
   ]
  },
  {
   "cell_type": "code",
   "execution_count": 5,
   "metadata": {},
   "outputs": [],
   "source": [
    "with open('categories.json', 'w') as fd:\n",
    "    json.dump(names, fd)\n",
    "with open('categories_dict.json', 'w') as fd:\n",
    "    json.dump(name_dict, fd)"
   ]
  },
  {
   "cell_type": "markdown",
   "metadata": {},
   "source": [
    "# Combine all the numpy file together, generate category, train/val/test split"
   ]
  },
  {
   "cell_type": "code",
   "execution_count": 81,
   "metadata": {},
   "outputs": [],
   "source": [
    "# generate category, data\n",
    "category_train = []\n",
    "category_test = []\n",
    "category_val = []\n",
    "image_train = None\n",
    "image_test = None\n",
    "image_val = None\n",
    "for i in range(len(names)):\n",
    "    data = np.load(numpy_path+names[i]+'.npy')\n",
    "    instance_num = data.shape[0]\n",
    "    \n",
    "    image_test = np.concatenate((image_test, data[-testsize:]), axis=0) if image_test is not None else data[-testsize:]\n",
    "    image_val = np.concatenate((image_val, data[-testsize-valsize:-testsize]), axis=0) if image_val is not None else data[-testsize-valsize:-testsize]\n",
    "    image_train = np.concatenate((image_train, data[:-testsize-valsize]), axis=0) if image_train is not None else data[:-testsize-valsize]\n",
    "    category_test.extend([i] * (testsize))\n",
    "    category_val.extend([i] * (valsize))\n",
    "    category_train.extend([i] * (instance_num-testsize-valsize))\n",
    "    "
   ]
  },
  {
   "cell_type": "code",
   "execution_count": null,
   "metadata": {},
   "outputs": [],
   "source": [
    "# save data\n",
    "with open(labelpath.format('train'), 'w') as fd:\n",
    "    json.dump(category_train, fd)\n",
    "with open(labelpath.format('val'), 'w') as fd:\n",
    "    json.dump(category_val, fd)\n",
    "with open(labelpath.format('test'), 'w') as fd:\n",
    "    json.dump(category_test, fd)\n",
    "    \n",
    "np.save(datapath.format('train'), image_train)\n",
    "np.save(datapath.format('val'), image_val)\n",
    "np.save(datapath.format('test'), image_test)"
   ]
  },
  {
   "cell_type": "code",
   "execution_count": 6,
   "metadata": {},
   "outputs": [
    {
     "data": {
      "text/plain": [
       "345"
      ]
     },
     "execution_count": 6,
     "metadata": {},
     "output_type": "execute_result"
    }
   ],
   "source": [
    "len(name_dict)"
   ]
  },
  {
   "cell_type": "code",
   "execution_count": null,
   "metadata": {},
   "outputs": [],
   "source": []
  }
 ],
 "metadata": {
  "kernelspec": {
   "display_name": "Python 2",
   "language": "python",
   "name": "python2"
  },
  "language_info": {
   "codemirror_mode": {
    "name": "ipython",
    "version": 2
   },
   "file_extension": ".py",
   "mimetype": "text/x-python",
   "name": "python",
   "nbconvert_exporter": "python",
   "pygments_lexer": "ipython2",
   "version": "2.7.15"
  }
 },
 "nbformat": 4,
 "nbformat_minor": 2
}
