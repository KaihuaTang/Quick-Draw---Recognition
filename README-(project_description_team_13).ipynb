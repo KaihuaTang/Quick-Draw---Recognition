{
 "cells": [
  {
   "cell_type": "markdown",
   "metadata": {},
   "source": [
    "# Quick-Draw---Recognition-and-Generation\n",
    "Team 13 Course Project of  CE7454\n",
    "\n",
    "#### Project Github\n",
    "https://github.com/KaihuaTang/Quick-Draw-Multimodal-Recognition.git\n",
    "\n",
    "#### Set Up Environment\n",
    "0. conda create -n course pip python=2.7\n",
    "1. conda install pytorch=0.4 torchvision cuda90 -c pytorch \n",
    "2. bash install_package.sh  (install everything)\n",
    "\n",
    "#### Download Dataset: Quick Draw\n",
    "0. pip install gsutil\n",
    "1. Go to ./data/simplify/ \n",
    "2. gsutil -m cp gs://quickdraw_dataset/full/simplified/*.ndjson .\n",
    "3. Go to ./data/numpy/\n",
    "4. gsutil -m cp gs://quickdraw_dataset/full/numpy_bitmap/*.npy .\n",
    "\n",
    "#### Prepare Dataset\n",
    "1. run preprocessing.ipynb\n",
    "\n",
    "#### How To Change Model & Setting\n",
    "0. Everything we need to change is under config.ipynb\n",
    "1. CNN Model: IMAGE_MODE = True, SEQUENCE_MODE = False\n",
    "2. RNN Model: IMAGE_MODE = False, SEQUENCE_MODE = True\n",
    "3. Multi-modal: IMAGE_MODE = True, SEQUENCE_MODE = True\n",
    "4. Change Multi-modal function by FUSION_MODE\n",
    "5. Model will be saved to model_name\n",
    "6. Set Test_Mode = True for Testing\n",
    "\n",
    "#### Data Exploration: Visualization\n",
    "0. run data_exploration.ipynb\n",
    "\n",
    "#### Training\n",
    "0. Run train.ipynb\n",
    "\n",
    "#### Test\n",
    "0. Run visualize_test.ipynb\n"
   ]
  },
  {
   "cell_type": "code",
   "execution_count": null,
   "metadata": {},
   "outputs": [],
   "source": []
  }
 ],
 "metadata": {
  "kernelspec": {
   "display_name": "Python 2",
   "language": "python",
   "name": "python2"
  },
  "language_info": {
   "codemirror_mode": {
    "name": "ipython",
    "version": 2
   },
   "file_extension": ".py",
   "mimetype": "text/x-python",
   "name": "python",
   "nbconvert_exporter": "python",
   "pygments_lexer": "ipython2",
   "version": "2.7.15"
  }
 },
 "nbformat": 4,
 "nbformat_minor": 2
}
