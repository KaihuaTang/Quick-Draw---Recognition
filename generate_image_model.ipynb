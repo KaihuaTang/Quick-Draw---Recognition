{
 "cells": [
  {
   "cell_type": "code",
   "execution_count": 1,
   "metadata": {},
   "outputs": [],
   "source": [
    "import torch\n",
    "import torch.nn as nn\n",
    "import torch.nn.functional as F\n",
    "import torch.nn.init as init\n",
    "from torch.autograd import Variable\n",
    "from torch.nn.utils import weight_norm"
   ]
  },
  {
   "cell_type": "code",
   "execution_count": 2,
   "metadata": {},
   "outputs": [],
   "source": [
    "%run utils.ipynb\n",
    "#from utils import *\n",
    "%run config.ipynb\n",
    "#from config import *\n",
    "%run image_model.ipynb\n",
    "#from image_model import *"
   ]
  },
  {
   "cell_type": "code",
   "execution_count": 3,
   "metadata": {},
   "outputs": [],
   "source": [
    "class GenerateNet(nn.Module):\n",
    "    def __init__(self):\n",
    "        super(GenerateNet, self).__init__()\n",
    "        self.num_class = 100\n",
    "        self.img_size = 28\n",
    "        \n",
    "        self.drop = nn.Dropout(0.1)\n",
    "        self.relu = nn.ReLU()\n",
    "        self.sigmoid = nn.Sigmoid()\n",
    "        \n",
    "        self.embed_layer = nn.Embedding(100, 1024, padding_idx=0)\n",
    "        \n",
    "        self.fc1 = nn.Linear(1024, 512)\n",
    "        self.bn1 = nn.BatchNorm1d(512)\n",
    "        self.fc2 = nn.Linear(512, 28 * 28 * 4)\n",
    "        self.bn2 = nn.BatchNorm1d(28 * 28 * 4)\n",
    "        \n",
    "        self.block1 = InceptionBlock(4, 8)\n",
    "        self.block2 = InceptionBlock(8, 16)\n",
    "        \n",
    "        self.pose_conv = nn.Conv2d(16, 1, kernel_size=3, stride=1, padding=1)\n",
    "        \n",
    "        self.classification = ImageNet()\n",
    "        \n",
    "    def forward(self, input_label):\n",
    "        # input size [batch_size]\n",
    "        x = input_label.view(-1)\n",
    "        x = self.embed_layer(x) # batch_size, 512\n",
    "        x = self.drop(x)\n",
    "        \n",
    "        x = self.fc1(x)\n",
    "        x = self.bn1(x)\n",
    "        x = self.fc2(x)\n",
    "        x = self.bn2(x)\n",
    "        x = self.drop(x)\n",
    "        \n",
    "        x = x.view(-1, 4, 28, 28)\n",
    "        x = self.block1(x)\n",
    "        x = self.relu(x)\n",
    "        x = self.block2(x)\n",
    "        x = self.relu(x)\n",
    "        x = self.pose_conv(x)\n",
    "        x = self.sigmoid(x)\n",
    "        l2_loss = (x**2).sum()\n",
    "        \n",
    "        int_x = torch.round(x.detach(), out=None)\n",
    "        x = (int_x - x.detach()) + x\n",
    "        \n",
    "        x = x * 255\n",
    "        predict = self.classification(x, None)\n",
    "        \n",
    "        return x, predict, l2_loss"
   ]
  },
  {
   "cell_type": "code",
   "execution_count": 4,
   "metadata": {},
   "outputs": [],
   "source": []
  },
  {
   "cell_type": "code",
   "execution_count": null,
   "metadata": {},
   "outputs": [],
   "source": []
  }
 ],
 "metadata": {
  "kernelspec": {
   "display_name": "Python 2",
   "language": "python",
   "name": "python2"
  },
  "language_info": {
   "codemirror_mode": {
    "name": "ipython",
    "version": 2
   },
   "file_extension": ".py",
   "mimetype": "text/x-python",
   "name": "python",
   "nbconvert_exporter": "python",
   "pygments_lexer": "ipython2",
   "version": "2.7.15"
  }
 },
 "nbformat": 4,
 "nbformat_minor": 2
}
