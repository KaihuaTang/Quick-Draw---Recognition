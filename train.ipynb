{
 "cells": [
  {
   "cell_type": "code",
   "execution_count": 1,
   "metadata": {},
   "outputs": [],
   "source": [
    "import torch\n",
    "import torch.nn as nn\n",
    "import torch.nn.functional as F\n",
    "import torch.optim as optim\n",
    "import torch.optim.lr_scheduler as lr_scheduler\n",
    "from tqdm import tqdm"
   ]
  },
  {
   "cell_type": "code",
   "execution_count": 2,
   "metadata": {},
   "outputs": [],
   "source": [
    "%run data.ipynb\n",
    "#from data import *\n",
    "%run model.ipynb\n",
    "#from model import *\n",
    "%run config.ipynb\n",
    "#from config import *\n",
    "%run utils.ipynb\n",
    "#from utils import *"
   ]
  },
  {
   "cell_type": "code",
   "execution_count": 3,
   "metadata": {},
   "outputs": [],
   "source": [
    "def main():\n",
    "    # generate data loader\n",
    "    train_loader = get_loader(train=True)\n",
    "    val_loader = get_loader(val=True)\n",
    "    test_loader = get_loader(test=True)\n",
    "    \n",
    "    # model\n",
    "    model = Net().cuda()\n",
    "    \n",
    "    # optimizer and scheduler\n",
    "    optimizer = optim.Adam([p for p in model.parameters() if p.requires_grad], lr=initial_lr)\n",
    "    scheduler = lr_scheduler.ExponentialLR(optimizer, 0.5**(1 / lr_halflife))\n",
    "    start_epoch = 0\n",
    "    \n",
    "    for i in range(num_epoch):\n",
    "        #'Training epoch: '\n",
    "        train_ac = train(model, train_loader, optimizer, scheduler, i, train=True)\n",
    "        #'Evaluation epoch: '\n",
    "        val_ac = train(model, val_loader, optimizer, scheduler, i, train=False)\n",
    "        \n",
    "        #save model\n",
    "        results = {\n",
    "            'epoch':i,\n",
    "            'weights':model.state_dict(),\n",
    "            'training accuracy': train_ac,\n",
    "            'eval accuracy':val_ac,\n",
    "        }\n",
    "        torch.save(results, model_name + '_' + str(i) + '.pth')\n",
    "        "
   ]
  },
  {
   "cell_type": "code",
   "execution_count": 4,
   "metadata": {},
   "outputs": [],
   "source": [
    "def train(model, loader, optimizer, scheduler, epoch, train=False):\n",
    "    if train:\n",
    "        model.train()\n",
    "    else:\n",
    "        model.eval()\n",
    "    \n",
    "     # container\n",
    "    output_container = []\n",
    "    loss_container = []\n",
    "    \n",
    "    loader = tqdm(loader, desc='Training epoch '+str(epoch) if train else 'Eval epoch '+str(epoch), ncols=0)\n",
    "    for v, l in loader:\n",
    "        var_params = {\n",
    "            'requires_grad': False,\n",
    "        }\n",
    "        v = Variable(v.cuda(async=True), **var_params)\n",
    "        l = Variable(l.cuda(async=True), **var_params)\n",
    "        \n",
    "        out = model(v)\n",
    "        if train:\n",
    "            loss = F.cross_entropy(out, l)\n",
    "            acc = (l == out.max(1)[1]).float().mean()\n",
    "            output_container.append(float(acc.detach().data))\n",
    "            loss_container.append(float(loss.detach().data))\n",
    "            scheduler.step()\n",
    "            optimizer.zero_grad()\n",
    "            loss.backward()\n",
    "            optimizer.step()\n",
    "        else:\n",
    "            acc = (l == out.max(1)[1]).float().mean()\n",
    "            output_container.append(float(acc))\n",
    "            \n",
    "        # visualization\n",
    "        loader.set_postfix(loss=list_mean(loss_container), acc=list_mean(output_container))\n",
    "    \n",
    "    return list_mean(output_container)"
   ]
  },
  {
   "cell_type": "code",
   "execution_count": null,
   "metadata": {},
   "outputs": [],
   "source": [
    "main()"
   ]
  },
  {
   "cell_type": "code",
   "execution_count": null,
   "metadata": {},
   "outputs": [],
   "source": []
  }
 ],
 "metadata": {
  "kernelspec": {
   "display_name": "Python 2",
   "language": "python",
   "name": "python2"
  },
  "language_info": {
   "codemirror_mode": {
    "name": "ipython",
    "version": 2
   },
   "file_extension": ".py",
   "mimetype": "text/x-python",
   "name": "python",
   "nbconvert_exporter": "python",
   "pygments_lexer": "ipython2",
   "version": "2.7.15"
  }
 },
 "nbformat": 4,
 "nbformat_minor": 2
}
