{
 "cells": [
  {
   "cell_type": "code",
   "execution_count": 1,
   "metadata": {},
   "outputs": [],
   "source": [
    "import torch\n",
    "import torch.nn as nn\n",
    "import torch.nn.functional as F\n",
    "import torch.nn.init as init\n",
    "from torch.autograd import Variable\n",
    "from torch.nn.utils import weight_norm"
   ]
  },
  {
   "cell_type": "code",
   "execution_count": 2,
   "metadata": {},
   "outputs": [],
   "source": [
    "%run utils.ipynb\n",
    "#from utils import *\n",
    "%run config.ipynb\n",
    "#from config import *"
   ]
  },
  {
   "cell_type": "code",
   "execution_count": 3,
   "metadata": {},
   "outputs": [],
   "source": [
    "class ImageNet(nn.Module):\n",
    "    def __init__(self):\n",
    "        super(ImageNet, self).__init__()\n",
    "        self.num_class = 100\n",
    "        self.img_size = 28\n",
    "        self.dropout = 0.3\n",
    "        self.maxpool = nn.MaxPool2d(2, stride=2)\n",
    "        self.relu = nn.ReLU(self.dropout)\n",
    "        \n",
    "        self.pre_conv = nn.Conv2d(1, 4, kernel_size=3, stride=1, padding=1)\n",
    "        self.block1 = InceptionBlock(4, 8)\n",
    "        self.block2 = InceptionBlock(8, 16)\n",
    "        \n",
    "        self.fc1 = nn.Linear(16 * 7 * 7, 1024)\n",
    "        self.bn = nn.BatchNorm1d(1024)\n",
    "        self.fc2 = nn.Linear(1024, self.num_class)\n",
    "        \n",
    "    def forward(self, input_feat, _):\n",
    "        # input size [batch_size, 28, 28]\n",
    "        # output size [batch_size, 345]\n",
    "        input_feat = input_feat.view(-1, 1, self.img_size, self.img_size)\n",
    "        feat = self.pre_conv(input_feat)\n",
    "        feat = self.block1(feat)\n",
    "        feat = self.maxpool(feat)\n",
    "        feat = self.block2(feat)\n",
    "        feat = self.relu(feat)\n",
    "        feat = self.maxpool(feat)\n",
    "        \n",
    "        feat = self.fc1(feat.view(-1, 16 * 7 * 7))\n",
    "        feat = self.bn(feat)\n",
    "        output = self.fc2(feat)\n",
    "        return output"
   ]
  },
  {
   "cell_type": "code",
   "execution_count": 4,
   "metadata": {},
   "outputs": [],
   "source": [
    "class InceptionBlock(nn.Module):\n",
    "    def __init__(self, input_size, output_size):\n",
    "        super(InceptionBlock, self).__init__()\n",
    "        \n",
    "        self.conv1 = nn.Conv2d(input_size, output_size, kernel_size=3, stride=1, padding=1)\n",
    "        self.conv2 = nn.Conv2d(input_size, output_size, kernel_size=5, stride=1, padding=2)\n",
    "        self.conv3 = nn.Conv2d(input_size, output_size, kernel_size=7, stride=1, padding=3)\n",
    "        self.maxpool = nn.MaxPool2d(3, stride=1, padding=1)\n",
    "        self.conv4 = nn.Conv2d(input_size, output_size, kernel_size=1, stride=1, padding=0)\n",
    "        \n",
    "        self.output_conv = nn.Conv2d(output_size * 4, output_size, kernel_size=3, stride=1, padding=1)\n",
    "        self.bn = nn.BatchNorm2d(output_size)\n",
    "        self.relu = nn.ReLU()\n",
    "\n",
    "    def forward(self, input_feat):\n",
    "        x1 = self.conv1(input_feat)\n",
    "        x2 = self.conv2(input_feat)\n",
    "        x3 = self.conv3(input_feat)\n",
    "        x4 = self.maxpool(input_feat)\n",
    "        x4 = self.conv4(x4)\n",
    "        \n",
    "        x = torch.cat((x1,x2,x3,x4), dim=1)\n",
    "        x = self.relu(x)\n",
    "        x = self.output_conv(x)\n",
    "        x = self.bn(x)\n",
    "        return x"
   ]
  },
  {
   "cell_type": "code",
   "execution_count": null,
   "metadata": {},
   "outputs": [],
   "source": []
  }
 ],
 "metadata": {
  "kernelspec": {
   "display_name": "Python 2",
   "language": "python",
   "name": "python2"
  },
  "language_info": {
   "codemirror_mode": {
    "name": "ipython",
    "version": 2
   },
   "file_extension": ".py",
   "mimetype": "text/x-python",
   "name": "python",
   "nbconvert_exporter": "python",
   "pygments_lexer": "ipython2",
   "version": "2.7.15"
  }
 },
 "nbformat": 4,
 "nbformat_minor": 2
}
