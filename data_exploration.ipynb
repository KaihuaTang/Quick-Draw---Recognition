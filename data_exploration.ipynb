{
 "cells": [
  {
   "cell_type": "code",
   "execution_count": 61,
   "metadata": {},
   "outputs": [],
   "source": [
    "import numpy as np\n",
    "import ndjson\n",
    "import json\n",
    "import os\n",
    "\n",
    "import matplotlib.pyplot as plt\n",
    "from matplotlib.pyplot import figure"
   ]
  },
  {
   "cell_type": "code",
   "execution_count": 2,
   "metadata": {},
   "outputs": [],
   "source": [
    "numpy_path = 'data/numpy/'\n",
    "datapath = 'data/images_{0}.npy'\n",
    "sequencepath = 'data/sequences_{0}.npy'\n",
    "labelpath = 'data/labels_{0}.json'\n",
    "testsize = 10000\n",
    "valsize = 5000\n",
    "\n",
    "#first: stroke\n",
    "#second: x/y\n",
    "#third: point\n",
    "\n",
    "# [1~254], 255: new stroke, 0: the end/default\n",
    "# maximum length: 300\n",
    "MAX_LENGTH = 200\n",
    "simplify_path = 'data/simplify/'"
   ]
  },
  {
   "cell_type": "code",
   "execution_count": 3,
   "metadata": {},
   "outputs": [],
   "source": [
    "def file_name(file_dir): \n",
    "    names = []\n",
    "    for root, dirs, files in os.walk(file_dir):\n",
    "        names.append(files) \n",
    "    names = [file.split('.')[0] for file in names[0]]\n",
    "    return names"
   ]
  },
  {
   "cell_type": "code",
   "execution_count": 4,
   "metadata": {},
   "outputs": [],
   "source": [
    "names = file_name(numpy_path)[:100]\n",
    "name_dict = {}\n",
    "for i in range(len(names)):\n",
    "    name_dict[i] = names[i]"
   ]
  },
  {
   "cell_type": "markdown",
   "metadata": {},
   "source": [
    "# Histogram For Stroke"
   ]
  },
  {
   "cell_type": "code",
   "execution_count": 9,
   "metadata": {},
   "outputs": [
    {
     "data": {
      "image/png": "[encoded data removed]",
      "text/plain": [
       "<Figure size 432x288 with 1 Axes>"
      ]
     },
     "metadata": {
      "needs_background": "light"
     },
     "output_type": "display_data"
    }
   ],
   "source": [
    "stroke_all = []\n",
    "\n",
    "for k in range(len(names)):\n",
    "    op = open(simplify_path+names[k]+'.ndjson')\n",
    "    data = ndjson.load(op)\n",
    "    \n",
    "    for i in range(len(data)):\n",
    "        instance = data[i]['drawing']\n",
    "        stroke_all.append(len(instance))\n",
    "\n",
    "\n",
    "hist, bins = np.histogram(stroke_all, bins=100)\n",
    "width = 0.7 * (bins[1] - bins[0])\n",
    "center = (bins[:-1] + bins[1:]) / 2\n",
    "plt.bar(center, hist, align='center', width=width)\n",
    "plt.show()"
   ]
  },
  {
   "cell_type": "code",
   "execution_count": 68,
   "metadata": {},
   "outputs": [
    {
     "data": {
      "image/png": "[encoded data removed]",
      "text/plain": [
       "<Figure size 720x432 with 1 Axes>"
      ]
     },
     "metadata": {
      "needs_background": "light"
     },
     "output_type": "display_data"
    }
   ],
   "source": [
    "stroke_np = np.array(stroke_all)\n",
    "np.save('./stroke_all.npy', stroke_np)\n",
    "mask = stroke_np < 50\n",
    "select_stroke = stroke_np[mask].tolist()\n",
    "\n",
    "hist, bins = np.histogram(select_stroke, bins=50)\n",
    "width = 0.7 * (bins[1] - bins[0])\n",
    "center = (bins[:-1] + bins[1:]) / 2\n",
    "figure(figsize=(10, 6))\n",
    "plt.bar(center, hist, align='center', width=width)\n",
    "plt.show()"
   ]
  },
  {
   "cell_type": "markdown",
   "metadata": {},
   "source": [
    "# Histogram For Point"
   ]
  },
  {
   "cell_type": "code",
   "execution_count": 67,
   "metadata": {},
   "outputs": [
    {
     "data": {
      "image/png": "[encoded data removed]",
      "text/plain": [
       "<Figure size 720x432 with 1 Axes>"
      ]
     },
     "metadata": {
      "needs_background": "light"
     },
     "output_type": "display_data"
    }
   ],
   "source": [
    "point_all = np.array([0])\n",
    "\n",
    "for k in range(len(names)):\n",
    "    data = np.load(simplify_path+names[k]+'_length.npy')\n",
    "    point_all = np.concatenate((point_all, data), axis=0)\n",
    "\n",
    "mask = point_all < 250\n",
    "\n",
    "point_all = point_all[mask].tolist()\n",
    "hist, bins = np.histogram(point_all, bins=100)\n",
    "width = 0.7 * (bins[1] - bins[0])\n",
    "center = (bins[:-1] + bins[1:]) / 2\n",
    "figure(figsize=(10, 6))\n",
    "plt.bar(center, hist, align='center', width=width)\n",
    "plt.show()"
   ]
  },
  {
   "cell_type": "markdown",
   "metadata": {},
   "source": [
    "# Average Point For 100 Class"
   ]
  },
  {
   "cell_type": "code",
   "execution_count": 63,
   "metadata": {},
   "outputs": [
    {
     "name": "stdout",
     "output_type": "stream",
     "text": [
      "[36, 28, 47, 64, 38, 79, 32, 27, 67, 57, 25, 41, 26, 38, 47, 47, 26, 45, 44, 26, 36, 44, 45, 43, 25, 55, 100, 34, 48, 40, 56, 53, 49, 41, 66, 43, 36, 53, 49, 28, 51, 55, 71, 39, 38, 55, 64, 26, 41, 26, 41, 43, 70, 36, 52, 37, 44, 27, 45, 37, 25, 40, 39, 64, 32, 71, 44, 40, 89, 56, 86, 37, 31, 25, 41, 38, 41, 26, 27, 38, 73, 15, 25, 43, 24, 55, 66, 34, 53, 50, 41, 40, 38, 77, 59, 40, 32, 33, 34, 52]\n"
     ]
    },
    {
     "data": {
      "text/plain": [
       "<BarContainer object of 100 artists>"
      ]
     },
     "execution_count": 63,
     "metadata": {},
     "output_type": "execute_result"
    },
    {
     "data": {
      "image/png": "[encoded data removed]",
      "text/plain": [
       "<Figure size 720x432 with 1 Axes>"
      ]
     },
     "metadata": {
      "needs_background": "light"
     },
     "output_type": "display_data"
    }
   ],
   "source": [
    "point_all = []\n",
    "\n",
    "for k in range(len(names)):\n",
    "    data = np.load(simplify_path+names[k]+'_length.npy')\n",
    "    point_all.append(int(data.mean()))\n",
    "\n",
    "print(point_all)\n",
    "center = list(range(100))\n",
    "figure(figsize=(10, 6))\n",
    "plt.bar(center, point_all)"
   ]
  },
  {
   "cell_type": "markdown",
   "metadata": {},
   "source": [
    "# Average Stroke For 100 Class"
   ]
  },
  {
   "cell_type": "code",
   "execution_count": 70,
   "metadata": {
    "scrolled": true
   },
   "outputs": [
    {
     "name": "stdout",
     "output_type": "stream",
     "text": [
      "squiggle\n",
      "bread\n",
      "violin\n",
      "bush\n",
      "eyeglasses\n",
      "soccer ball\n",
      "string bean\n",
      "shovel\n",
      "zebra\n",
      "kangaroo\n",
      "spoon\n",
      "submarine\n",
      "underwear\n",
      "hot air balloon\n",
      "pickup truck\n",
      "snowman\n",
      "chair\n",
      "cloud\n",
      "giraffe\n",
      "axe\n",
      "matches\n",
      "aircraft carrier\n",
      "camel\n",
      "saxophone\n",
      "streetlight\n",
      "drums\n",
      "camouflage\n",
      "grass\n",
      "snorkel\n",
      "laptop\n",
      "hot tub\n",
      "car\n",
      "passport\n",
      "flying saucer\n",
      "lobster\n",
      "cactus\n",
      "apple\n",
      "helicopter\n",
      "compass\n",
      "pear\n",
      "cannon\n",
      "spider\n",
      "fan\n",
      "bandage\n",
      "cruise ship\n",
      "blueberry\n",
      "crab\n",
      "elbow\n",
      "cooler\n",
      "circle\n",
      "sleeping bag\n",
      "yoga\n",
      "owl\n",
      "cup\n",
      "backpack\n",
      "castle\n",
      "couch\n",
      "sword\n",
      "bottlecap\n",
      "flashlight\n",
      "suitcase\n",
      "key\n",
      "jacket\n",
      "The Mona Lisa\n",
      "tooth\n",
      "goatee\n",
      "headphones\n",
      "The Great Wall of China\n",
      "grapes\n",
      "binoculars\n",
      "beard\n",
      "mouth\n",
      "anvil\n",
      "pillow\n",
      "garden hose\n",
      "light bulb\n",
      "hot dog\n",
      "pants\n",
      "shorts\n",
      "picture frame\n",
      "pig\n",
      "triangle\n",
      "fork\n",
      "remote control\n",
      "finger\n",
      "onion\n",
      "mermaid\n",
      "moustache\n",
      "calculator\n",
      "basketball\n",
      "flamingo\n",
      "trumpet\n",
      "saw\n",
      "tiger\n",
      "alarm clock\n",
      "clock\n",
      "foot\n",
      "snowflake\n",
      "hammer\n",
      "cello\n"
     ]
    }
   ],
   "source": [
    "\n",
    "\n",
    "for k in range(len(names)):\n",
    "    op = open(simplify_path+names[k]+'.ndjson')\n",
    "    data = ndjson.load(op)\n",
    "    print(names[k])\n",
    "    stroke_num = []\n",
    "    for i in range(len(data)):\n",
    "        instance = data[i]['drawing']\n",
    "        stroke_num.append(len(instance))\n",
    "    stroke_np = np.array(stroke_num)\n",
    "    np.save(simplify_path+names[k]+'_stroke.npy', stroke_np)"
   ]
  },
  {
   "cell_type": "code",
   "execution_count": 72,
   "metadata": {},
   "outputs": [],
   "source": [
    "strokes = []\n",
    "for k in range(len(names)):\n",
    "    op = np.load(simplify_path+names[k]+'_stroke.npy')\n",
    "    strokes.append(int(op.mean()))"
   ]
  },
  {
   "cell_type": "code",
   "execution_count": 73,
   "metadata": {},
   "outputs": [
    {
     "data": {
      "text/plain": [
       "<BarContainer object of 100 artists>"
      ]
     },
     "execution_count": 73,
     "metadata": {},
     "output_type": "execute_result"
    },
    {
     "data": {
      "image/png": "[encoded data removed]",
      "text/plain": [
       "<Figure size 720x432 with 1 Axes>"
      ]
     },
     "metadata": {
      "needs_background": "light"
     },
     "output_type": "display_data"
    }
   ],
   "source": [
    "center = list(range(100))\n",
    "figure(figsize=(10, 6))\n",
    "plt.bar(center, strokes)"
   ]
  },
  {
   "cell_type": "code",
   "execution_count": null,
   "metadata": {},
   "outputs": [],
   "source": []
  }
 ],
 "metadata": {
  "kernelspec": {
   "display_name": "Python 2",
   "language": "python",
   "name": "python2"
  },
  "language_info": {
   "codemirror_mode": {
    "name": "ipython",
    "version": 2
   },
   "file_extension": ".py",
   "mimetype": "text/x-python",
   "name": "python",
   "nbconvert_exporter": "python",
   "pygments_lexer": "ipython2",
   "version": "2.7.15"
  }
 },
 "nbformat": 4,
 "nbformat_minor": 2
}
