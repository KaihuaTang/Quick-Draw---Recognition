{
 "cells": [
  {
   "cell_type": "code",
   "execution_count": 1,
   "metadata": {},
   "outputs": [],
   "source": [
    "import json\n",
    "import os\n",
    "import os.path\n",
    "import re\n",
    "\n",
    "from PIL import Image\n",
    "#import h5py\n",
    "import torch\n",
    "import torch.utils.data as data\n",
    "import torchvision.transforms as transforms\n",
    "import numpy as np"
   ]
  },
  {
   "cell_type": "code",
   "execution_count": 2,
   "metadata": {},
   "outputs": [],
   "source": [
    "%run utils.ipynb\n",
    "#from utils import *\n",
    "%run config.ipynb\n",
    "#from config import *"
   ]
  },
  {
   "cell_type": "code",
   "execution_count": 3,
   "metadata": {},
   "outputs": [],
   "source": [
    "# category_dict = {'1':'car', '2':'airplane',...}\n",
    "with open('categories_dict.json', 'r') as fd:\n",
    "    category_dict = json.load(fd)"
   ]
  },
  {
   "cell_type": "markdown",
   "metadata": {},
   "source": [
    "# Create dataset instance and Generate Dataloader"
   ]
  },
  {
   "cell_type": "code",
   "execution_count": 4,
   "metadata": {},
   "outputs": [],
   "source": [
    "def get_loader(train=False, val=False, test=False, image=False, sequence=False):\n",
    "    \"\"\" Returns a data loader for the desired split \"\"\"\n",
    "    if image:\n",
    "        dataLink = ImageSet\n",
    "    elif sequence:\n",
    "        dataLink = SequenceSet\n",
    "    split = dataLink(\n",
    "        path_for(train=train, val=val, test=test, label=True, image=image, sequence=sequence),\n",
    "        path_for(train=train, val=val, test=test, data=True, image=image, sequence=sequence),\n",
    "    )\n",
    "    loader = torch.utils.data.DataLoader(\n",
    "        split,\n",
    "        batch_size=batch_size,\n",
    "        shuffle=train,  # only shuffle the data in training\n",
    "        pin_memory=True,\n",
    "        num_workers=data_workers,\n",
    "    )\n",
    "    return loader"
   ]
  },
  {
   "cell_type": "code",
   "execution_count": 5,
   "metadata": {},
   "outputs": [],
   "source": [
    "class ImageSet(data.Dataset):\n",
    "    \"\"\" VQA dataset, open-ended \"\"\"\n",
    "    def __init__(self, label_path, data_path):\n",
    "        super(ImageSet, self).__init__()\n",
    "        with open(label_path, 'r') as fd:\n",
    "            self.label_json = json.load(fd)\n",
    "        self.image_data = np.load(data_path)\n",
    "        \n",
    "    def __getitem__(self, item):\n",
    "        l = int(self.label_json[item])\n",
    "        image = self.image_data[item].reshape(28,28).astype(np.float32)\n",
    "        return image, l\n",
    "\n",
    "    def __len__(self):\n",
    "        return len(self.label_json)"
   ]
  },
  {
   "cell_type": "code",
   "execution_count": null,
   "metadata": {},
   "outputs": [],
   "source": [
    "class SequenceSet(data.Dataset):\n",
    "    def __init__(self, label_path, data_path):\n",
    "        super(SequenceSet, self).__init__()\n",
    "        with open(label_path, 'r') as fd:\n",
    "            self.label_json = json.load(fd)\n",
    "        # shape [batch, MAX_LENGTH, (x,y)]\n",
    "        # value [1-254], 0: default, 255: end of stroke\n",
    "        self.sequence_data = np.load(data_path)\n",
    "        self.MAX_LENGTH = 200\n",
    "        \n",
    "    def __getitem__(self, item):\n",
    "        l = int(self.label_json[item])\n",
    "        sequence = self.sequence_data[item].reshape(self.MAX_LENGTH,2).astype(np.int64)\n",
    "        return sequence, l\n",
    "    \n",
    "    def __len__(self):\n",
    "        return len(self.label_json)"
   ]
  }
 ],
 "metadata": {
  "kernelspec": {
   "display_name": "Python 2",
   "language": "python",
   "name": "python2"
  },
  "language_info": {
   "codemirror_mode": {
    "name": "ipython",
    "version": 2
   },
   "file_extension": ".py",
   "mimetype": "text/x-python",
   "name": "python",
   "nbconvert_exporter": "python",
   "pygments_lexer": "ipython2",
   "version": "2.7.15"
  }
 },
 "nbformat": 4,
 "nbformat_minor": 2
}
