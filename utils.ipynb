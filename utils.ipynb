{
 "cells": [
  {
   "cell_type": "code",
   "execution_count": 38,
   "metadata": {},
   "outputs": [],
   "source": [
    "import os\n",
    "import json\n",
    "import os.path\n",
    "import re"
   ]
  },
  {
   "cell_type": "code",
   "execution_count": 39,
   "metadata": {},
   "outputs": [],
   "source": [
    "%run config.ipynb\n",
    "#from config import *"
   ]
  },
  {
   "cell_type": "code",
   "execution_count": 40,
   "metadata": {},
   "outputs": [],
   "source": [
    "def path_for(train=False, val=False, test=False, label=False, data=False, image=False, sequence=False):\n",
    "    assert train + val + test == 1\n",
    "    assert label + data == 1\n",
    "    assert image + sequence == 1\n",
    "    \n",
    "    if label:\n",
    "        file_name = 'labels_{0}.json'\n",
    "    elif data and image:\n",
    "        file_name = 'images_{0}.npy'\n",
    "    elif data and sequence:\n",
    "        file_name = 'sequences_{0}.npy'\n",
    "        \n",
    "    if train:\n",
    "        file_name = file_name.format('train')\n",
    "    elif val:\n",
    "        file_name = file_name.format('val')\n",
    "    elif test:\n",
    "        file_name = file_name.format('test')\n",
    "        \n",
    "    return os.path.join(data_path, file_name)"
   ]
  },
  {
   "cell_type": "code",
   "execution_count": 41,
   "metadata": {},
   "outputs": [
    {
     "data": {
      "text/plain": [
       "'data/images_train.npy'"
      ]
     },
     "execution_count": 41,
     "metadata": {},
     "output_type": "execute_result"
    }
   ],
   "source": [
    "path_for(train=True, data=True, image=True)"
   ]
  },
  {
   "cell_type": "code",
   "execution_count": null,
   "metadata": {},
   "outputs": [],
   "source": [
    "def list_mean(container):\n",
    "    if len(container) == 0:\n",
    "        return 0\n",
    "    else:\n",
    "        return sum(container) / len(container)"
   ]
  }
 ],
 "metadata": {
  "kernelspec": {
   "display_name": "Python 2",
   "language": "python",
   "name": "python2"
  },
  "language_info": {
   "codemirror_mode": {
    "name": "ipython",
    "version": 2
   },
   "file_extension": ".py",
   "mimetype": "text/x-python",
   "name": "python",
   "nbconvert_exporter": "python",
   "pygments_lexer": "ipython2",
   "version": "2.7.15"
  }
 },
 "nbformat": 4,
 "nbformat_minor": 2
}
