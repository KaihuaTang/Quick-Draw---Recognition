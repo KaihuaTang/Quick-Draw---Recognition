{
 "cells": [
  {
   "cell_type": "code",
   "execution_count": 2,
   "metadata": {},
   "outputs": [],
   "source": [
    "import torch\n",
    "import torch.nn as nn\n",
    "import torch.nn.functional as F\n",
    "import torch.nn.init as init\n",
    "from torch.autograd import Variable\n",
    "from torch.nn.utils import weight_norm"
   ]
  },
  {
   "cell_type": "code",
   "execution_count": 3,
   "metadata": {},
   "outputs": [],
   "source": [
    "%run utils.ipynb\n",
    "#from utils import *\n",
    "%run config.ipynb\n",
    "#from config import *"
   ]
  },
  {
   "cell_type": "code",
   "execution_count": 4,
   "metadata": {},
   "outputs": [],
   "source": [
    "class SequenceNet(nn.Module):\n",
    "    def __init__(self):\n",
    "        super(SequenceNet, self).__init__()\n",
    "        self.num_class = 345\n",
    "        self.tokens_range = 256\n",
    "        self.embedding_size = 512\n",
    "        self.feature_size = 1024\n",
    "        self.max_length = 200\n",
    "        self.dropout = 0.3\n",
    "        self.embed_net = EmbeddingNet(self.tokens_range, self.embedding_size, self.feature_size, self.dropout)\n",
    "        self.model = FCModel(self.feature_size, self.num_class, self.dropout)\n",
    "    \n",
    "    def forward(self, input_feat):\n",
    "        # input size [batch_size, MAXI_LENGTH, 2]\n",
    "        # output size [batch_size, 345]\n",
    "        embed_feat = self.embed_net(input_feat)\n",
    "        output = self.model(embed_feat)\n",
    "        \n",
    "        return output"
   ]
  },
  {
   "cell_type": "code",
   "execution_count": 5,
   "metadata": {},
   "outputs": [],
   "source": [
    "class EmbeddingNet(nn.Module):\n",
    "    def __init__(self, tokens_range, embedding_size, feature_size, drop):\n",
    "        super(EmbeddingNet, self).__init__()\n",
    "        self.embedding_x = nn.Embedding(tokens_range, embedding_size, padding_idx=0)\n",
    "        self.embedding_y = nn.Embedding(tokens_range, embedding_size, padding_idx=0)\n",
    "        self.drop = nn.Dropout(drop)\n",
    "        self.nonliner = nn.Sigmoid()\n",
    "        # generate lstm\n",
    "        self.lstm = nn.GRU(input_size=embedding_size,\n",
    "                           hidden_size=int(feature_size/2),\n",
    "                           num_layers=2,\n",
    "                           dropout = drop,\n",
    "                           batch_first=True)\n",
    "        self._init_lstm(self.lstm.weight_ih_l0)\n",
    "        self._init_lstm(self.lstm.weight_hh_l0)\n",
    "        self._init_lstm(self.lstm.weight_ih_l1)\n",
    "        self._init_lstm(self.lstm.weight_hh_l1)\n",
    "        self.lstm.bias_ih_l0.data.zero_()\n",
    "        self.lstm.bias_hh_l0.data.zero_()\n",
    "        self.lstm.bias_ih_l1.data.zero_()\n",
    "        self.lstm.bias_hh_l1.data.zero_()\n",
    "    def _init_lstm(self, weight):\n",
    "        for w in weight.chunk(3, 0):\n",
    "            init.xavier_uniform_(w)\n",
    "    def forward(self, input_feat):\n",
    "        # input size [batch_size, MAXI_LENGTH, 2]\n",
    "        # input value: 1-254: position, 0: default, 1: end of stroke\n",
    "        batch_size, input_length, xy = input_feat.shape\n",
    "\n",
    "        input_x = input_feat[:,:,0].contiguous().view(batch_size, input_length)\n",
    "        input_y = input_feat[:,:,1].contiguous().view(batch_size, input_length)\n",
    "        \n",
    "        embedded_x = self.embedding_x(input_x)\n",
    "        embedded_y = self.embedding_y(input_y)\n",
    "        \n",
    "        joint_embedded = self.nonliner(embedded_x) * self.nonliner(embedded_y)\n",
    "        _, output = self.lstm(joint_embedded)\n",
    "        \n",
    "        return torch.transpose(output, 0, 1).contiguous().view(batch_size,-1)"
   ]
  },
  {
   "cell_type": "code",
   "execution_count": 6,
   "metadata": {},
   "outputs": [],
   "source": [
    "class FCModel(nn.Module):\n",
    "    def __init__(self, input_size, output_size, drop):\n",
    "        super(FCModel, self).__init__()\n",
    "        self.input_size = input_size\n",
    "        self.fc1 = nn.Linear(input_size, 1024)\n",
    "        self.bn1 = nn.BatchNorm1d(1024)\n",
    "        self.fc2 = nn.Linear(1024, 2048)\n",
    "        self.bn2 = nn.BatchNorm1d(2048)\n",
    "        self.fc3 = nn.Linear(2048, output_size)\n",
    "        self.relu = nn.ReLU()\n",
    "        self.drop = nn.Dropout(drop)\n",
    "    def forward(self, input_feat):\n",
    "        input_feat = input_feat.view(-1, self.input_size)\n",
    "        x = self.fc1(input_feat)\n",
    "        x = self.relu(x)\n",
    "        x = self.bn1(x)\n",
    "        x = self.fc2(x)\n",
    "        x = self.relu(x)\n",
    "        x = self.bn2(x)\n",
    "        x = self.fc3(x)\n",
    "        return x"
   ]
  },
  {
   "cell_type": "code",
   "execution_count": null,
   "metadata": {},
   "outputs": [],
   "source": []
  }
 ],
 "metadata": {
  "kernelspec": {
   "display_name": "Python 2",
   "language": "python",
   "name": "python2"
  },
  "language_info": {
   "codemirror_mode": {
    "name": "ipython",
    "version": 2
   },
   "file_extension": ".py",
   "mimetype": "text/x-python",
   "name": "python",
   "nbconvert_exporter": "python",
   "pygments_lexer": "ipython2",
   "version": "2.7.15"
  }
 },
 "nbformat": 4,
 "nbformat_minor": 2
}
