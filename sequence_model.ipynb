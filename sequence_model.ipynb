{
 "cells": [
  {
   "cell_type": "code",
   "execution_count": 2,
   "metadata": {},
   "outputs": [],
   "source": [
    "import torch\n",
    "import torch.nn as nn\n",
    "import torch.nn.functional as F\n",
    "import torch.nn.init as init\n",
    "from torch.autograd import Variable\n",
    "from torch.nn.utils import weight_norm"
   ]
  },
  {
   "cell_type": "code",
   "execution_count": 3,
   "metadata": {},
   "outputs": [],
   "source": [
    "%run utils.ipynb\n",
    "#from utils import *\n",
    "%run config.ipynb\n",
    "#from config import *"
   ]
  },
  {
   "cell_type": "code",
   "execution_count": 4,
   "metadata": {},
   "outputs": [],
   "source": [
    "class SequenceNet(nn.Module):\n",
    "    def __init__(self):\n",
    "        super(SequenceNet, self).__init__()\n",
    "        self.num_class = 100\n",
    "        self.tokens_range = 256\n",
    "        self.feature_size = 512\n",
    "        self.max_length = 200\n",
    "        self.dropout = 0.3\n",
    "        \n",
    "        # feature preprocessing\n",
    "        self.pre_fc = nn.Linear(3, 512)\n",
    "        self.pre_bn = nn.BatchNorm1d(512)\n",
    "        # lstm\n",
    "        self.lstm = nn.GRU(input_size=512,\n",
    "                           hidden_size=int(self.feature_size/2),\n",
    "                           num_layers=2,\n",
    "                           dropout = self.dropout,\n",
    "                           batch_first=True)\n",
    "        self._init_lstm()\n",
    "        # \n",
    "        self.fc1 = nn.Linear(self.feature_size, 1024)\n",
    "        self.bn = nn.BatchNorm1d(1024)\n",
    "        self.fc2 = nn.Linear(1024, self.num_class)\n",
    "        print('sequence_model')\n",
    "    \n",
    "    def _init_lstm(self):\n",
    "        self._init_weight(self.lstm.weight_ih_l0)\n",
    "        self._init_weight(self.lstm.weight_hh_l0)\n",
    "        self._init_weight(self.lstm.weight_ih_l1)\n",
    "        self._init_weight(self.lstm.weight_hh_l1)\n",
    "        self.lstm.bias_ih_l0.data.zero_()\n",
    "        self.lstm.bias_hh_l0.data.zero_()\n",
    "        self.lstm.bias_ih_l1.data.zero_()\n",
    "        self.lstm.bias_hh_l1.data.zero_()\n",
    "    \n",
    "    def _init_weight(self, weight):\n",
    "        for w in weight.chunk(3, 0):\n",
    "            init.xavier_uniform_(w)\n",
    "    \n",
    "    def forward(self, _, input_feat):\n",
    "        # input size [batch_size, MAXI_LENGTH, 3]\n",
    "        # output size [batch_size, 100]\n",
    "        input_feat = input_feat.float()/255.0\n",
    "        batch_size, max_length, input_size = input_feat.shape\n",
    "        \n",
    "        x = self.pre_fc(input_feat.view(-1, input_size))\n",
    "        x = self.pre_bn(x)\n",
    "        x = x.view(batch_size, max_length, -1)\n",
    "        \n",
    "        # lstm\n",
    "        _, output = self.lstm(x)\n",
    "        x = torch.transpose(output, 0, 1).contiguous().view(batch_size,-1)\n",
    "        \n",
    "        # fc \n",
    "        x = self.fc1(x)\n",
    "        x = self.bn(x)\n",
    "        output = self.fc2(x)\n",
    "        \n",
    "        return output"
   ]
  },
  {
   "cell_type": "code",
   "execution_count": 5,
   "metadata": {},
   "outputs": [],
   "source": []
  },
  {
   "cell_type": "code",
   "execution_count": 6,
   "metadata": {},
   "outputs": [],
   "source": []
  },
  {
   "cell_type": "code",
   "execution_count": null,
   "metadata": {},
   "outputs": [],
   "source": []
  }
 ],
 "metadata": {
  "kernelspec": {
   "display_name": "Python 2",
   "language": "python",
   "name": "python2"
  },
  "language_info": {
   "codemirror_mode": {
    "name": "ipython",
    "version": 2
   },
   "file_extension": ".py",
   "mimetype": "text/x-python",
   "name": "python",
   "nbconvert_exporter": "python",
   "pygments_lexer": "ipython2",
   "version": "2.7.15"
  }
 },
 "nbformat": 4,
 "nbformat_minor": 2
}
