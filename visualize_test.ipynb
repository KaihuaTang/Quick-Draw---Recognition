{
 "cells": [
  {
   "cell_type": "code",
   "execution_count": 1,
   "metadata": {},
   "outputs": [],
   "source": [
    "import torch\n",
    "import torch.nn as nn\n",
    "import torch.nn.functional as F\n",
    "import torch.optim as optim\n",
    "import torch.optim.lr_scheduler as lr_scheduler\n",
    "from tqdm import tqdm_notebook\n",
    "from PIL import Image\n",
    "import json\n",
    "import matplotlib.pyplot as plt\n",
    "from matplotlib.pyplot import figure"
   ]
  },
  {
   "cell_type": "markdown",
   "metadata": {},
   "source": [
    "## Load model and utils"
   ]
  },
  {
   "cell_type": "code",
   "execution_count": 25,
   "metadata": {
    "scrolled": true
   },
   "outputs": [],
   "source": [
    "%run config.ipynb\n",
    "#from config import *\n",
    "%run data.ipynb\n",
    "#from data import *\n",
    "%run image_model.ipynb\n",
    "#from image_model import *\n",
    "%run sequence_model.ipynb\n",
    "#from sequence_model import *\n",
    "%run joint_model.ipynb\n",
    "#from joint_model import *\n",
    "%run utils.ipynb\n",
    "#from utils import *"
   ]
  },
  {
   "cell_type": "markdown",
   "metadata": {},
   "source": [
    "## print category dictionary"
   ]
  },
  {
   "cell_type": "code",
   "execution_count": 26,
   "metadata": {},
   "outputs": [
    {
     "name": "stdout",
     "output_type": "stream",
     "text": [
      "{u'24': u'streetlight', u'25': u'drums', u'26': u'camouflage', u'27': u'grass', u'20': u'matches', u'21': u'aircraft carrier', u'22': u'camel', u'23': u'saxophone', u'28': u'snorkel', u'29': u'laptop', u'0': u'squiggle', u'4': u'eyeglasses', u'8': u'zebra', u'59': u'flashlight', u'58': u'bottlecap', u'55': u'castle', u'54': u'backpack', u'57': u'sword', u'56': u'couch', u'51': u'yoga', u'50': u'sleeping bag', u'53': u'cup', u'52': u'owl', u'88': u'calculator', u'89': u'basketball', u'82': u'fork', u'83': u'remote control', u'80': u'pig', u'81': u'triangle', u'86': u'mermaid', u'87': u'moustache', u'84': u'finger', u'85': u'onion', u'3': u'bush', u'7': u'shovel', u'39': u'pear', u'38': u'compass', u'33': u'flying saucer', u'32': u'passport', u'31': u'car', u'30': u'hot tub', u'37': u'helicopter', u'36': u'apple', u'35': u'cactus', u'34': u'lobster', u'60': u'suitcase', u'61': u'key', u'62': u'jacket', u'63': u'The Mona Lisa', u'64': u'tooth', u'65': u'goatee', u'66': u'headphones', u'67': u'The Great Wall of China', u'68': u'grapes', u'69': u'binoculars', u'2': u'violin', u'6': u'string bean', u'99': u'cello', u'98': u'hammer', u'91': u'trumpet', u'90': u'flamingo', u'93': u'tiger', u'92': u'saw', u'95': u'clock', u'94': u'alarm clock', u'97': u'snowflake', u'96': u'foot', u'11': u'submarine', u'10': u'spoon', u'13': u'hot air balloon', u'12': u'underwear', u'15': u'snowman', u'14': u'pickup truck', u'17': u'cloud', u'16': u'chair', u'19': u'axe', u'18': u'giraffe', u'48': u'cooler', u'49': u'circle', u'46': u'crab', u'47': u'elbow', u'44': u'cruise ship', u'45': u'blueberry', u'42': u'fan', u'43': u'bandage', u'40': u'cannon', u'41': u'spider', u'1': u'bread', u'5': u'soccer ball', u'9': u'kangaroo', u'77': u'pants', u'76': u'hot dog', u'75': u'light bulb', u'74': u'garden hose', u'73': u'pillow', u'72': u'anvil', u'71': u'mouth', u'70': u'beard', u'79': u'picture frame', u'78': u'shorts'}\n"
     ]
    }
   ],
   "source": [
    "fd = open('categories_dict.json')\n",
    "name_dict = json.load(fd)\n",
    "print(name_dict)\n",
    "output = []"
   ]
  },
  {
   "cell_type": "markdown",
   "metadata": {},
   "source": [
    "## Load data"
   ]
  },
  {
   "cell_type": "code",
   "execution_count": 15,
   "metadata": {},
   "outputs": [],
   "source": [
    "# generate data loader\n",
    "train_loader = get_loader(train=True, image=IMAGE_MODE, sequence=SEQUENCE_MODE)\n",
    "val_loader = get_loader(val=True, image=IMAGE_MODE, sequence=SEQUENCE_MODE)\n",
    "test_loader = get_loader(test=True, image=IMAGE_MODE, sequence=SEQUENCE_MODE)"
   ]
  },
  {
   "cell_type": "markdown",
   "metadata": {},
   "source": [
    "## init tensorboard"
   ]
  },
  {
   "cell_type": "code",
   "execution_count": 16,
   "metadata": {},
   "outputs": [
    {
     "name": "stdout",
     "output_type": "stream",
     "text": [
      "('Experiment Setting: ', 'models/baseline_sequence_new')\n"
     ]
    }
   ],
   "source": [
    "# Tensorboard\n",
    "from tensorboardX import SummaryWriter\n",
    "print('Experiment Setting: ', model_name)\n",
    "writer = SummaryWriter('runs/'+model_name+('_test' if Test_Mode else '_train'))"
   ]
  },
  {
   "cell_type": "code",
   "execution_count": 17,
   "metadata": {},
   "outputs": [],
   "source": [
    "def main():\n",
    "    # model\n",
    "    if IMAGE_MODE and SEQUENCE_MODE:\n",
    "        Net = JointNet\n",
    "    else:\n",
    "        Net = ImageNet if IMAGE_MODE else SequenceNet\n",
    "    model = Net().cuda()\n",
    "    \n",
    "    # optimizer and scheduler\n",
    "    optimizer = optim.Adam([p for p in model.parameters() if p.requires_grad], lr=initial_lr)\n",
    "    scheduler = lr_scheduler.ExponentialLR(optimizer, 0.5**(1 / lr_halflife))\n",
    "    start_epoch = 0\n",
    "    \n",
    "    if Test_Mode:\n",
    "        resume = torch.load(Test_Model)\n",
    "        model.load_state_dict(resume['weights'])\n",
    "        test_ac = test(model, test_loader, optimizer, scheduler, resume['epoch'], train=False)\n",
    "        return\n",
    "    \n",
    "    for i in range(num_epoch):\n",
    "        #'Training epoch: '\n",
    "        train_ac = test(model, train_loader, optimizer, scheduler, i, train=True)\n",
    "        #'Evaluation epoch: '\n",
    "        val_ac = test(model, val_loader, optimizer, scheduler, i, train=False)\n",
    "        \n",
    "        #save model\n",
    "        results = {\n",
    "            'epoch':i,\n",
    "            'weights':model.state_dict(),\n",
    "            'training accuracy': train_ac,\n",
    "            'eval accuracy':val_ac,\n",
    "        }\n",
    "        torch.save(results, model_name + '_' + str(i) + '.pth')\n",
    "        "
   ]
  },
  {
   "cell_type": "markdown",
   "metadata": {},
   "source": [
    "## Test, save visualized image-label pair, record results"
   ]
  },
  {
   "cell_type": "code",
   "execution_count": 18,
   "metadata": {},
   "outputs": [],
   "source": [
    "def test(model, loader, optimizer, scheduler, epoch, train=False):\n",
    "    if train:\n",
    "        model.train()\n",
    "    else:\n",
    "        model.eval()\n",
    "    \n",
    "     # container\n",
    "    output_container = []\n",
    "    loss_container = []\n",
    "    \n",
    "    loader = tqdm_notebook(loader, desc='Training epoch '+str(epoch) if train else 'Eval epoch '+str(epoch))\n",
    "    batch_max = len(loader)\n",
    "    batch_count = 0\n",
    "    for v, s, l in loader:\n",
    "        var_params = {\n",
    "            'requires_grad': False,\n",
    "        }\n",
    "        v = Variable(v.cuda(async=True), **var_params) # image\n",
    "        s = Variable(s.cuda(async=True), **var_params) # sequence\n",
    "        l = Variable(l.cuda(async=True), **var_params) # label\n",
    "        \n",
    "        out = model(v, s)\n",
    "        if train:\n",
    "            loss = F.cross_entropy(out, l)\n",
    "            acc = (l == out.max(1)[1]).float().mean()\n",
    "            output_container.append(float(acc.detach().data))\n",
    "            loss_container.append(float(loss.detach().data))\n",
    "            scheduler.step()\n",
    "            optimizer.zero_grad()\n",
    "            loss.backward()\n",
    "            optimizer.step()\n",
    "            # Add Tensorboard log\n",
    "            add_log(writer, epoch*batch_max+batch_count, loss_container, output_container, train=True)\n",
    "        else:\n",
    "            label_idx = int(out.max(1)[1][0])\n",
    "            label = name_dict[str(label_idx)]\n",
    "            name = 'images/' + str(batch_count) + '_' + str(label) + '.png'\n",
    "            single_draw = v[0].view(28,28).data.cpu().numpy().astype(dtype = np.uint8)\n",
    "            image_draw = Image.fromarray(single_draw, 'P')\n",
    "            image_draw.save(name)\n",
    "            \n",
    "            global output\n",
    "            match = (l == out.max(1)[1])\n",
    "            acc = (match).float().mean()\n",
    "            output_container.append(float(acc))\n",
    "            output = output + match.float().data.cpu().numpy().tolist()\n",
    "            # Add Tensorboard log\n",
    "            add_log(writer, epoch*batch_max+batch_count, loss_container, output_container, test=True)\n",
    "            \n",
    "        # visualization\n",
    "        loader.set_postfix(loss=list_mean(loss_container), acc=list_mean(output_container))\n",
    "        \n",
    "        batch_count+=1\n",
    "    \n",
    "    return list_mean(output_container)"
   ]
  },
  {
   "cell_type": "code",
   "execution_count": 19,
   "metadata": {},
   "outputs": [
    {
     "data": {
      "application/vnd.jupyter.widget-view+json": {
       "model_id": "d622a4f72e24435ba99e49494ce9abf8",
       "version_major": 2,
       "version_minor": 0
      },
      "text/plain": [
       "SEJveChjaGlsZHJlbj0oSW50UHJvZ3Jlc3ModmFsdWU9MCwgZGVzY3JpcHRpb249dSdFdmFsIGVwb2NoIDYnLCBtYXg9MTk1NCwgc3R5bGU9UHJvZ3Jlc3NTdHlsZShkZXNjcmlwdGlvbl93aWTigKY=\n"
      ]
     },
     "metadata": {},
     "output_type": "display_data"
    }
   ],
   "source": [
    "test()"
   ]
  },
  {
   "cell_type": "markdown",
   "metadata": {},
   "source": [
    "## each class performance"
   ]
  },
  {
   "cell_type": "code",
   "execution_count": 20,
   "metadata": {
    "scrolled": true
   },
   "outputs": [
    {
     "name": "stdout",
     "output_type": "stream",
     "text": [
      "squiggle : 0.7995\n",
      "bread : 0.7822\n",
      "violin : 0.8345\n",
      "bush : 0.8212\n",
      "eyeglasses : 0.95\n",
      "soccer ball : 0.9325\n",
      "string bean : 0.8352\n",
      "shovel : 0.8731\n",
      "zebra : 0.8584\n",
      "kangaroo : 0.92\n",
      "spoon : 0.8885\n",
      "submarine : 0.8959\n",
      "underwear : 0.8337\n",
      "hot air balloon : 0.9137\n",
      "pickup truck : 0.8526\n",
      "snowman : 0.9765\n",
      "chair : 0.9654\n",
      "cloud : 0.8885\n",
      "giraffe : 0.9273\n",
      "axe : 0.8713\n",
      "matches : 0.8095\n",
      "aircraft carrier : 0.6909\n",
      "camel : 0.9409\n",
      "saxophone : 0.9186\n",
      "streetlight : 0.9331\n",
      "drums : 0.9005\n",
      "camouflage : 0.8321\n",
      "grass : 0.965\n",
      "snorkel : 0.8917\n",
      "laptop : 0.952\n",
      "hot tub : 0.8593\n",
      "car : 0.9558\n",
      "passport : 0.9084\n",
      "flying saucer : 0.881\n",
      "lobster : 0.7896\n",
      "cactus : 0.9595\n",
      "apple : 0.94\n",
      "helicopter : 0.9481\n",
      "compass : 0.8746\n",
      "pear : 0.9003\n",
      "cannon : 0.8829\n",
      "spider : 0.951\n",
      "fan : 0.9033\n",
      "bandage : 0.8983\n",
      "cruise ship : 0.8787\n",
      "blueberry : 0.811\n",
      "crab : 0.8462\n",
      "elbow : 0.899\n",
      "cooler : 0.8101\n",
      "circle : 0.9347\n",
      "sleeping bag : 0.8452\n",
      "yoga : 0.8987\n",
      "owl : 0.9498\n",
      "cup : 0.9181\n",
      "backpack : 0.9208\n",
      "castle : 0.9254\n",
      "couch : 0.9174\n",
      "sword : 0.9445\n",
      "bottlecap : 0.8278\n",
      "flashlight : 0.9351\n",
      "suitcase : 0.9023\n",
      "key : 0.917\n",
      "jacket : 0.9499\n",
      "The Mona Lisa : 0.9369\n",
      "tooth : 0.8726\n",
      "goatee : 0.8135\n",
      "headphones : 0.9687\n",
      "The Great Wall of China : 0.8658\n",
      "grapes : 0.9586\n",
      "binoculars : 0.8938\n",
      "beard : 0.8687\n",
      "mouth : 0.9127\n",
      "anvil : 0.8993\n",
      "pillow : 0.7984\n",
      "garden hose : 0.7207\n",
      "light bulb : 0.9164\n",
      "hot dog : 0.9338\n",
      "pants : 0.8993\n",
      "shorts : 0.795\n",
      "picture frame : 0.9674\n",
      "pig : 0.9611\n",
      "triangle : 0.9763\n",
      "fork : 0.9215\n",
      "remote control : 0.9445\n",
      "finger : 0.9293\n",
      "onion : 0.8812\n",
      "mermaid : 0.9374\n",
      "moustache : 0.9157\n",
      "calculator : 0.9542\n",
      "basketball : 0.9219\n",
      "flamingo : 0.9236\n",
      "trumpet : 0.8883\n",
      "saw : 0.9152\n",
      "tiger : 0.7947\n",
      "alarm clock : 0.9351\n",
      "clock : 0.9423\n",
      "foot : 0.9371\n",
      "snowflake : 0.9649\n",
      "hammer : 0.8896\n",
      "cello : 0.6564\n"
     ]
    }
   ],
   "source": [
    "output_dict = {}\n",
    "for i in range(100):\n",
    "    print(name_dict[str(i)]+' : '+ str(sum(output[i*10000:i*10000+10000]) / 10000))\n",
    "    output_dict[name_dict[str(i)]] = sum(output[i*10000:i*10000+10000]) / 10000"
   ]
  },
  {
   "cell_type": "markdown",
   "metadata": {},
   "source": [
    "## best/worst performance"
   ]
  },
  {
   "cell_type": "code",
   "execution_count": 21,
   "metadata": {},
   "outputs": [
    {
     "name": "stdout",
     "output_type": "stream",
     "text": [
      "best: snowman->0.9765\n",
      "worst: cello->0.6564\n"
     ]
    }
   ],
   "source": [
    "best = None\n",
    "worst = None\n",
    "best_score = -1\n",
    "worst_score = 1\n",
    "for c,a in output_dict.items():\n",
    "    if a > best_score:\n",
    "        best_score = a\n",
    "        best = c\n",
    "    if a < worst_score:\n",
    "        worst_score = a\n",
    "        worst = c\n",
    "print('best: '+best+'->'+str(best_score))\n",
    "print('worst: '+worst+'->'+str(worst_score))"
   ]
  },
  {
   "cell_type": "code",
   "execution_count": 22,
   "metadata": {},
   "outputs": [],
   "source": [
    "list_ac = list(output_dict.values())"
   ]
  },
  {
   "cell_type": "markdown",
   "metadata": {},
   "source": [
    "## histogram of results"
   ]
  },
  {
   "cell_type": "code",
   "execution_count": 23,
   "metadata": {},
   "outputs": [
    {
     "data": {
      "image/png": "[encoded data removed]",
      "text/plain": [
       "<Figure size 720x432 with 1 Axes>"
      ]
     },
     "metadata": {
      "needs_background": "light"
     },
     "output_type": "display_data"
    }
   ],
   "source": [
    "hist, bins = np.histogram(list_ac, bins=50)\n",
    "width = 0.7 * (bins[1] - bins[0])\n",
    "center = (bins[:-1] + bins[1:]) / 2\n",
    "figure(figsize=(10, 6))\n",
    "plt.bar(center, hist, align='center', width=width)\n",
    "plt.show()"
   ]
  },
  {
   "cell_type": "code",
   "execution_count": 24,
   "metadata": {},
   "outputs": [
    {
     "data": {
      "text/plain": [
       "89.35000000000002"
      ]
     },
     "execution_count": 24,
     "metadata": {},
     "output_type": "execute_result"
    }
   ],
   "source": [
    "sum(list_ac)"
   ]
  },
  {
   "cell_type": "code",
   "execution_count": null,
   "metadata": {},
   "outputs": [],
   "source": []
  }
 ],
 "metadata": {
  "kernelspec": {
   "display_name": "Python 2",
   "language": "python",
   "name": "python2"
  },
  "language_info": {
   "codemirror_mode": {
    "name": "ipython",
    "version": 2
   },
   "file_extension": ".py",
   "mimetype": "text/x-python",
   "name": "python",
   "nbconvert_exporter": "python",
   "pygments_lexer": "ipython2",
   "version": "2.7.15"
  }
 },
 "nbformat": 4,
 "nbformat_minor": 2
}
